{
 "cells": [
  {
   "cell_type": "markdown",
   "metadata": {},
   "source": [
    "## Analyze the big dataset"
   ]
  },
  {
   "cell_type": "code",
   "execution_count": 2,
   "metadata": {},
   "outputs": [
    {
     "name": "stdout",
     "output_type": "stream",
     "text": [
      "total data: 588108\n",
      "avg loc : 12.934027423534452\n",
      "max loc : 2860\n",
      "\n",
      "Level 1: 0.67\n",
      "Level 2: 0.86\n",
      "Level 3: 0.92\n",
      "Level 4: 0.95\n",
      "Level 5: 0.97\n",
      "Level 6: 0.98\n",
      "Level 7: 1.0\n"
     ]
    },
    {
     "data": {
      "image/png": "[encoded data removed]",
      "text/plain": [
       "<Figure size 720x360 with 1 Axes>"
      ]
     },
     "metadata": {
      "needs_background": "light"
     },
     "output_type": "display_data"
    }
   ],
   "source": [
    "import json\n",
    "import math\n",
    "import numpy as np\n",
    "import matplotlib.pyplot as plt\n",
    "\n",
    "inputs = []\n",
    "for path in ['../DeepCom_data/train.json', '../DeepCom_data/test.json', '../DeepCom_data/valid.json']:\n",
    "    input_file = open(path)\n",
    "    inputs.extend(input_file.readlines())\n",
    "    input_file.close()\n",
    "\n",
    "avgloc = 0\n",
    "locLevel = {'1':0, '2':0, '3':0, '4':0, '5':0, '6':0, '7':0}  # loc level {0~10, 10~20, ..., 50~60, 60up}\n",
    "maxloc = 0\n",
    "maxkey = 0\n",
    "\n",
    "print('total data: ' + str(len(inputs)))\n",
    "for key, pair in enumerate(inputs):\n",
    "    pair = json.loads(pair)\n",
    "    loc = len(pair['code'].split('\\n'))\n",
    "    avgloc += loc\n",
    "    if loc >= 60:\n",
    "        locLevel['7'] += 1\n",
    "    else:\n",
    "        locLevel[str(math.ceil(loc/10))] += 1\n",
    "    if loc > maxloc:\n",
    "        maxloc = loc\n",
    "        maxkey = key\n",
    "\n",
    "avgloc = avgloc/len(inputs)\n",
    "\n",
    "print('avg loc : '+str(avgloc))\n",
    "print('max loc : '+str(maxloc),end='\\n\\n')\n",
    "\n",
    "\n",
    "cnt = 0\n",
    "percent_cnt = []\n",
    "percent_cnt2 = []\n",
    "for i in range(7):\n",
    "    cnt += locLevel[str(i+1)]\n",
    "    percent_cnt.append(round(cnt/len(inputs), 2))\n",
    "    percent_cnt2.append((locLevel[str(i+1)]/len(inputs))*100)\n",
    "    print('Level '+str(i+1)+': '+str(round(cnt/len(inputs), 2)))\n",
    "\n",
    "\n",
    "objects = ('0~10', '10~20', '20~30', '30~40', '40~50', '50~60', 'above 60')\n",
    "y_pos = np.arange(len(objects))\n",
    "\n",
    "plt.figure(figsize=(10,5))\n",
    "plt.bar(y_pos, percent_cnt2, color=\"g\", align='center', alpha=0.5)\n",
    "plt.xticks(y_pos, objects)\n",
    "plt.xlabel('LOC')\n",
    "plt.ylabel('Percentage')\n",
    "plt.title('LOC distribution of big dataset')\n",
    "\n",
    "plt.show()"
   ]
  },
  {
   "cell_type": "markdown",
   "metadata": {},
   "source": [
    "## Plot the learning curve of the training process"
   ]
  },
  {
   "cell_type": "code",
   "execution_count": null,
   "metadata": {},
   "outputs": [],
   "source": [
    "plt.plot(range(1, epoch+1), lossArray, \"b\")\n",
    "plt.xlabel(\"epoch\")\n",
    "plt.ylabel(\"loss\")\n",
    "plt.title(MODE+\" version model training loss\")\n",
    "plt.show()\n",
    "\n",
    "plt.plot(range(1, epoch), testAccuracy, \"r\")\n",
    "plt.xlabel(\"epoch\")\n",
    "plt.ylabel(\"accuracy\")\n",
    "plt.title(MODE+\" version model testing accuracy\")\n",
    "plt.show()"
   ]
  },
  {
   "cell_type": "markdown",
   "metadata": {},
   "source": [
    "## Analyze our simplified dataset"
   ]
  },
  {
   "cell_type": "code",
   "execution_count": 15,
   "metadata": {},
   "outputs": [
    {
     "name": "stdout",
     "output_type": "stream",
     "text": [
      "total data: 127046\n",
      "avg loc : 9.442091840750594\n",
      "max loc : 40\n",
      "\n",
      "Level 1: 0.7\n",
      "Level 2: 0.91\n",
      "Level 3: 0.98\n",
      "Level 4: 1.0\n"
     ]
    },
    {
     "data": {
      "image/png": "[encoded data removed]",
      "text/plain": [
       "<Figure size 720x360 with 1 Axes>"
      ]
     },
     "metadata": {
      "needs_background": "light"
     },
     "output_type": "display_data"
    }
   ],
   "source": [
    "import json\n",
    "import math\n",
    "import numpy as np\n",
    "import matplotlib.pyplot as plt\n",
    "\n",
    "inputs = []\n",
    "for path in ['../simplified_dataset/simplified_train.json', '../simplified_dataset/simplified_test.json']:\n",
    "    input_file = open(path)\n",
    "    inputs.extend(input_file.readlines())\n",
    "    input_file.close()\n",
    "\n",
    "avgloc = 0\n",
    "locLevel = {'1':0, '2':0, '3':0, '4':0}  # loc level {0~10, 10~20, ..., 50~60, 60up}\n",
    "maxloc = 0\n",
    "maxkey = 0\n",
    "\n",
    "print('total data: ' + str(len(inputs)))\n",
    "for key, pair in enumerate(inputs):\n",
    "    pair = json.loads(pair)\n",
    "    loc = len(pair['code'].split('\\n'))\n",
    "    \n",
    "    avgloc += loc\n",
    "    if loc >= 40:\n",
    "        locLevel['4'] += 1\n",
    "    else:\n",
    "        locLevel[str(math.ceil(loc/10))] += 1\n",
    "    if loc > maxloc:\n",
    "        maxloc = loc\n",
    "        maxkey = key\n",
    "\n",
    "\n",
    "avgloc = avgloc/len(inputs)\n",
    "\n",
    "print('avg loc : '+str(avgloc))\n",
    "print('max loc : '+str(maxloc),end='\\n\\n')\n",
    "\n",
    "\n",
    "cnt = 0\n",
    "percent_cnt = []\n",
    "percent_cnt2 = []\n",
    "for i in range(4):\n",
    "    cnt += locLevel[str(i+1)]\n",
    "    percent_cnt.append(round(cnt/len(inputs), 2))\n",
    "    percent_cnt2.append((locLevel[str(i+1)]/len(inputs))*100)\n",
    "    print('Level '+str(i+1)+': '+str(round(cnt/len(inputs), 2)))\n",
    "\n",
    "\n",
    "objects = ('0~10', '10~20', '20~30', '30~40')\n",
    "y_pos = np.arange(len(objects))\n",
    "\n",
    "plt.figure(figsize=(10,5))\n",
    "plt.bar(y_pos, percent_cnt2, color=\"g\", align='center', alpha=0.5)\n",
    "plt.xticks(y_pos, objects)\n",
    "plt.xlabel('LOC')\n",
    "plt.ylabel('Percentage')\n",
    "plt.title('LOC distribution of big dataset')\n",
    "\n",
    "plt.show()"
   ]
  },
  {
   "cell_type": "code",
   "execution_count": 300,
   "metadata": {},
   "outputs": [
    {
     "data": {
      "text/plain": [
       "[69.76449474993309, 20.80663696613825, 6.969129291752593, 2.4597389921760624]"
      ]
     },
     "execution_count": 300,
     "metadata": {},
     "output_type": "execute_result"
    }
   ],
   "source": [
    "percent_cnt2"
   ]
  },
  {
   "cell_type": "code",
   "execution_count": 301,
   "metadata": {},
   "outputs": [
    {
     "data": {
      "text/plain": [
       "{'1': 88633, '2': 26434, '3': 8854, '4': 3125}"
      ]
     },
     "execution_count": 301,
     "metadata": {},
     "output_type": "execute_result"
    }
   ],
   "source": [
    "locLevel"
   ]
  },
  {
   "cell_type": "code",
   "execution_count": 298,
   "metadata": {},
   "outputs": [
    {
     "name": "stderr",
     "output_type": "stream",
     "text": [
      "100%|██████████| 114343/114343 [42:47<00:00, 44.53it/s] \n"
     ]
    },
    {
     "data": {
      "text/plain": [
       "265955"
      ]
     },
     "execution_count": 298,
     "metadata": {},
     "output_type": "execute_result"
    }
   ],
   "source": [
    "import json\n",
    "import javalang\n",
    "\n",
    "def code_tokenize(code):\n",
    "    inputs = []\n",
    "    tokens_parse = javalang.tokenizer.tokenize(code)\n",
    "    for token in tokens_parse:\n",
    "        token = str(token).split(' ')\n",
    "        token[1] = token[1].strip('\"')\n",
    "        inputs.append(token[1])\n",
    "\n",
    "    inputs.insert(0, '<START>')\n",
    "    inputs.append('<END>')\n",
    "    \n",
    "    return inputs\n",
    "\n",
    "def extractCode(inputs: list):\n",
    "    code_voc = ['<PAD>','<START>','<END>','<UNK>']\n",
    "    \n",
    "    code_tokens = []\n",
    "    for index, pair in enumerate(tqdm(inputs)):\n",
    "        pair = json.loads(pair)\n",
    "        parsed_inputs = code_tokenize(pair['code'])\n",
    "        for token in parsed_inputs:\n",
    "            if token not in code_voc:\n",
    "                code_voc.append(token)\n",
    "        code_tokens.append(parsed_inputs)\n",
    "    \n",
    "    return code_voc, code_tokens\n",
    "\n",
    "input_file = open('../simplified_dataset/simplified_train.json')\n",
    "inputs = input_file.readlines()\n",
    "code_voc, code_tokens = extractCode(inputs)\n",
    "len(code_voc)"
   ]
  },
  {
   "cell_type": "code",
   "execution_count": null,
   "metadata": {},
   "outputs": [],
   "source": []
  }
 ],
 "metadata": {
  "kernelspec": {
   "display_name": "Python 3",
   "language": "python",
   "name": "python3"
  },
  "language_info": {
   "codemirror_mode": {
    "name": "ipython",
    "version": 3
   },
   "file_extension": ".py",
   "mimetype": "text/x-python",
   "name": "python",
   "nbconvert_exporter": "python",
   "pygments_lexer": "ipython3",
   "version": "3.6.10"
  }
 },
 "nbformat": 4,
 "nbformat_minor": 2
}
